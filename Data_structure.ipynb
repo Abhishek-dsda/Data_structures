{
 "cells": [
  {
   "cell_type": "markdown",
   "id": "6b6aade0",
   "metadata": {},
   "source": [
    "### Data Types and Structures Questions ###"
   ]
  },
  {
   "cell_type": "markdown",
   "id": "70526e92",
   "metadata": {},
   "source": [
    "***1. What are data structures, and why are they important ?***"
   ]
  },
  {
   "cell_type": "markdown",
   "id": "f6f732ac",
   "metadata": {},
   "source": [
    "Data structures are methods of organizing, storing, and managing data so that it can be used efficiently.\n",
    "\n",
    "Think of them like containers — different shapes and sizes for different needs:\n",
    "List → Like a shopping list (ordered items).\n",
    "\n",
    "* Stack → Like a pile of plates (Last In, First Out).\n",
    "* Queue → Like a ticket line (First In, First Out).\n",
    "* Tree → Like a family tree (hierarchical structure).\n",
    "* Graph → Like a city map (shows connections).\n",
    "\n",
    "They’re Important because of following:\n",
    "\n",
    "* Efficiency – The right structure lets you find, insert, or delete data faster.\n",
    "* Scalability – Helps handle large datasets without slowing down.\n",
    "* Memory Optimization – Minimizes wasted storage.\n",
    "* Real-World Problem Solving – Many algorithms (searching, sorting, pathfinding) depend on them.\n",
    "* Foundation of Programming – Almost every software system uses them in some form."
   ]
  },
  {
   "cell_type": "markdown",
   "id": "6ed4df92",
   "metadata": {},
   "source": [
    "***2. Explain the difference between mutable and immutable data types with examples .***"
   ]
  },
  {
   "cell_type": "markdown",
   "id": "142b918a",
   "metadata": {},
   "source": [
    "In Python, mutable data types are those whose values can be changed after they are created, while immutable data types cannot be changed once created.\n",
    "\n",
    "* Mutable examples: Lists, dictionaries, and sets. You can add, remove, or update elements without creating a new object.<br>\n",
    "  For Example -> if my_list = [1, 2, 3] and you do my_list[0] = 10, the same list in memory is updated.\n",
    "\n",
    "* Immutable examples: Strings, tuples, and numbers. Any change creates a new object in memory.<br> For example, if name = \"hello\" and you try to change the first letter, Python will create a new string rather than modifying the original.\n",
    "\n",
    "Key point: Mutable objects are changeable in place, while immutable objects stay fixed and require creating a new copy for any modification."
   ]
  },
  {
   "cell_type": "markdown",
   "id": "9d524617",
   "metadata": {},
   "source": [
    "***3. What are the main differences between lists and tuples in Python ?***"
   ]
  },
  {
   "cell_type": "markdown",
   "id": "5fc2b8a2",
   "metadata": {},
   "source": [
    "In Python, lists and tuples are both used to store multiple items, but they differ mainly in mutability, syntax, and performance.\n",
    "\n",
    "* Mutability: Lists are mutable, meaning their elements can be changed after creation (e.g., adding, removing, or updating items). Tuples are immutable, so once created, their elements cannot be changed.\n",
    "\n",
    "* Syntax: Lists use square brackets [], while tuples use parentheses ().\n",
    "\n",
    "* Performance: Tuples are generally faster than lists because they are immutable and require less memory.\n",
    "\n",
    "* Use cases: Lists are preferred when you need a collection that may change, while tuples are used for fixed collections of items, often for data integrity."
   ]
  },
  {
   "cell_type": "markdown",
   "id": "aa9fecea",
   "metadata": {},
   "source": [
    "***4. Describe how dictionaries store data ?***"
   ]
  },
  {
   "cell_type": "markdown",
   "id": "6f878bd0",
   "metadata": {},
   "source": [
    "In Python, dictionaries store data as key–value pairs inside a special structure called a hash table.\n",
    "\n",
    "* Keys are unique and act like labels to identify each value.\n",
    "* Values are the actual data linked to those keys.\n",
    "\n",
    "When you store something in a dictionary, Python takes the key, runs it through a hashing function (a formula that turns the key into a fixed number), and uses that number to decide where to store the value in memory. This hashing process makes finding, adding, or removing data very fast—almost instant in most cases.<br>\n",
    "Key points:\n",
    "* Keys must be immutable (e.g., strings, numbers, tuples).\n",
    "* Values can be any data type."
   ]
  },
  {
   "cell_type": "markdown",
   "id": "8440cf9d",
   "metadata": {},
   "source": [
    "***5. Why might you use a set instead of a list in Python ?***"
   ]
  },
  {
   "cell_type": "markdown",
   "id": "67a2bd0a",
   "metadata": {},
   "source": [
    "We might use a set instead of a list in Python when you need:\n",
    "\n",
    "* No duplicates – A set automatically removes any repeated elements.\n",
    "* Fast membership checking – Checking if an item exists in a set is much faster than in a list, because sets use hashing.\n",
    "* Unordered collection – If the order of elements doesn’t matter, a set is a better choice.<br>\n",
    "we use a set when we want unique items and quick lookups without caring about order."
   ]
  },
  {
   "cell_type": "markdown",
   "id": "3153628f",
   "metadata": {},
   "source": [
    "***6. What is a string in Python, and how is it different from a list ?***"
   ]
  },
  {
   "cell_type": "markdown",
   "id": "881ba155",
   "metadata": {},
   "source": [
    "A string in Python is a sequence of characters used to represent text, enclosed within single quotes '...', double quotes \"...\", or triple quotes for multi-line strings. For example, \"hello\" or 'Python' are strings.\n",
    "\n",
    "The main differences between a string and a list are:\n",
    "\n",
    "* Data type: A string holds characters (text), while a list can hold items of any data type (numbers, strings, other lists, etc.).\n",
    "* Mutability: Strings are immutable, meaning once created, you cannot change individual characters directly. Lists are mutable, so you can add, remove, or change elements after creation.\n",
    "* Operations: Strings have special methods for text manipulation like .upper(), .split(), and .replace(). Lists have methods like .append(), .remove(), and .sort() for handling collections of items.\n",
    "* Indexing: Both support indexing and slicing, but in strings, each index is a character, whereas in lists, each index can be any object."
   ]
  },
  {
   "cell_type": "markdown",
   "id": "2ea99a57",
   "metadata": {},
   "source": [
    "***7. How do tuples ensure data integrity in Python ?***"
   ]
  },
  {
   "cell_type": "markdown",
   "id": "547727ac",
   "metadata": {},
   "source": [
    "Tuples ensure data integrity in Python because they are immutable, meaning once a tuple is created, its contents cannot be changed. This immutability prevents accidental or intentional modification of the data stored in the tuple, making tuples ideal for storing fixed collections of related values that should remain constant throughout the program.\n",
    "\n",
    "Because you can’t add, remove, or modify elements in a tuple, it guarantees that the data stays safe and consistent, which is why tuples are often used for things like storing configuration values, coordinates, or any data where you want to avoid unintended changes."
   ]
  },
  {
   "cell_type": "markdown",
   "id": "44154577",
   "metadata": {},
   "source": [
    "***8. What is a hash table, and how does it relate to dictionaries in Python ?***"
   ]
  },
  {
   "cell_type": "markdown",
   "id": "453ec26e",
   "metadata": {},
   "source": [
    "A hash table is a data structure that stores data as key–value pairs using a hash function to quickly find where data is saved.\n",
    "\n",
    "In Python , dictionaries are implemented as hash tables. When you add a key–value pair, Python hashes the key to compute an index and stores the value there. This makes dictionary operations like lookup, insertion, and deletion very fast.\n",
    "\n",
    "Keys must be immutable and hashable (like strings or numbers), and Python handles any rare cases where two keys get the same hash."
   ]
  },
  {
   "cell_type": "markdown",
   "id": "6625d488",
   "metadata": {},
   "source": [
    "***9. Can lists contain different data types in Python ?***"
   ]
  },
  {
   "cell_type": "markdown",
   "id": "5ce4a247",
   "metadata": {},
   "source": [
    "Yes, in Python, lists can contain different data types within the same list. For example, a list can hold integers, strings, floats, and even other lists all together."
   ]
  },
  {
   "cell_type": "markdown",
   "id": "819d3b2f",
   "metadata": {},
   "source": [
    "***10.  Explain why strings are immutable in Python ?***"
   ]
  },
  {
   "cell_type": "markdown",
   "id": "8114fb15",
   "metadata": {},
   "source": [
    "Strings are immutable in Python to ensure data safety and efficiency. Because strings don’t change after creation, Python can reuse the same string objects in memory, which saves space and makes the program faster. Also, immutability prevents accidental changes to text data, helping keep code more predictable and reliable."
   ]
  },
  {
   "cell_type": "markdown",
   "id": "c23dc0c1",
   "metadata": {},
   "source": [
    "***11. What advantages do dictionaries offer over lists for certain tasks ?***"
   ]
  },
  {
   "cell_type": "markdown",
   "id": "93fae05d",
   "metadata": {},
   "source": [
    "Dictionaries offer several advantages over lists for certain tasks:\n",
    "\n",
    "* Fast lookups: Dictionaries use keys to access values quickly (almost instant), while lists require searching through items.\n",
    "* Key–value pairs: Dictionaries store data with meaningful keys, making it easier to organize and retrieve specific information.\n",
    "* No fixed order needed: Dictionaries (especially before Python 3.7) don’t rely on order, which is useful when order doesn’t matter but fast access does.\n",
    "* Unique keys: Each key in a dictionary is unique, preventing duplicate entries for identifiers."
   ]
  },
  {
   "cell_type": "markdown",
   "id": "aefdf738",
   "metadata": {},
   "source": [
    "***12.  Describe a scenario where using a tuple would be preferable over a list.***"
   ]
  },
  {
   "cell_type": "markdown",
   "id": "4fd75ebb",
   "metadata": {},
   "source": [
    "A good scenario to use a tuple instead of a list is when you have a collection of values that should never change throughout the program.\n",
    "\n",
    "For example, consider storing the coordinates of a point in 2D space: (x, y). Since these coordinates represent a fixed position, you don’t want them accidentally modified. Using a tuple ensures the data stays constant and protects it from unintentional changes.\n",
    "\n",
    "Another example is when you use data as dictionary keys—only immutable types like tuples can be used as keys, not lists.\n",
    "\n",
    "So, tuples are preferable when you need fixed, read-only data for safety and integrity."
   ]
  },
  {
   "cell_type": "markdown",
   "id": "536935dd",
   "metadata": {},
   "source": [
    "***13.  How do sets handle duplicate values in Python ?***"
   ]
  },
  {
   "cell_type": "markdown",
   "id": "267cc855",
   "metadata": {},
   "source": [
    "In Python, sets automatically remove duplicate values. When you add elements to a set, it keeps only one copy of each unique item. If you try to add a duplicate, the set ignores it and remains unchanged. This is because sets are designed to store only unique elements, making them ideal when you want to eliminate duplicates from a collection."
   ]
  },
  {
   "cell_type": "markdown",
   "id": "de52dbe7",
   "metadata": {},
   "source": [
    "***14.  How does the “in” keyword work differently for lists and dictionaries.***"
   ]
  },
  {
   "cell_type": "markdown",
   "id": "9d856c99",
   "metadata": {},
   "source": [
    "The in keyword works differently for lists and dictionaries in Python because they check membership in different ways:\n",
    "\n",
    "* For a list, in checks if a value exists anywhere in the list by scanning through all elements. This can take longer for large lists since it may need to check many items.\n",
    "\n",
    "* For a dictionary, in checks if a key exists in the dictionary using a hash lookup, which is very fast regardless of the dictionary’s size."
   ]
  },
  {
   "cell_type": "markdown",
   "id": "55bd29fe",
   "metadata": {},
   "source": [
    "***15. Can you modify the elements of a tuple? Explain why or why not ?**"
   ]
  },
  {
   "cell_type": "markdown",
   "id": "989144cb",
   "metadata": {},
   "source": [
    "No, you cannot modify the elements of a tuple because tuples are immutable in Python. This means once a tuple is created, its contents cannot be changed — you can’t add, remove, or update any element inside it.\n",
    "\n",
    "This immutability ensures data integrity and allows Python to optimize memory usage and performance. If you need a collection that can be changed, you should use a list instead."
   ]
  },
  {
   "cell_type": "markdown",
   "id": "22a85e79",
   "metadata": {},
   "source": [
    "***16. What is a nested dictionary, and give an example of its use case ?***"
   ]
  },
  {
   "cell_type": "markdown",
   "id": "dc8cf2ec",
   "metadata": {},
   "source": [
    "A nested dictionary in Python is a dictionary where some values are themselves dictionaries. It’s like having dictionaries inside dictionaries, allowing you to represent more complex, hierarchical data.\n",
    "\n",
    "Example use case:\n",
    "Suppose you want to store information about students, where each student has details like age and grades. A nested dictionary can organize this neatly:\n",
    "\n",
    "students = {<br>\n",
    "    \"Alice\": {\"age\": 20, \"grades\": {\"math\": 90, \"science\": 85}},<br>\n",
    "    \"Bob\": {\"age\": 22, \"grades\": {\"math\": 75, \"science\": 95}}<br>\n",
    "}\n",
    "\n",
    "Here, each student name maps to another dictionary containing their age and a nested dictionary of their grades.\n",
    "\n",
    "This structure makes it easy to access and update detailed information by key, like students[\"Alice\"][\"grades\"][\"math\"]."
   ]
  },
  {
   "cell_type": "markdown",
   "id": "161b07f1",
   "metadata": {},
   "source": [
    "***17. Describe the time complexity of accessing elements in a dictionary .***"
   ]
  },
  {
   "cell_type": "markdown",
   "id": "5c30460d",
   "metadata": {},
   "source": [
    "Accessing elements in a dictionary generally has O(1) time complexity, which means it takes constant time regardless of the dictionary’s size. This efficiency comes from how dictionaries use hash tables internally: the key is hashed to directly find the location of the value, allowing very fast lookups.\n",
    "\n",
    "However, in rare cases like many hash collisions, the time complexity can degrade toward O(n), but Python’s implementation is optimized to keep this unlikely. So practically, you can expect dictionary access to be very fast and nearly constant time."
   ]
  },
  {
   "cell_type": "markdown",
   "id": "6306a2d5",
   "metadata": {},
   "source": [
    "***18. In what situations are lists preferred over dictionaries .***"
   ]
  },
  {
   "cell_type": "markdown",
   "id": "b6cdbc6b",
   "metadata": {},
   "source": [
    "Lists are preferred over dictionaries when:\n",
    "\n",
    "* You need ordered collections where the position (index) of items matters.\n",
    "* You want to store simple sequences of items without needing keys.\n",
    "* You plan to iterate through items in order or need to access elements by their position.\n",
    "* Your data contains duplicates or repeated values, which lists allow easily.\n",
    "* You want to perform operations like sorting or slicing, which work naturally on lists."
   ]
  },
  {
   "cell_type": "markdown",
   "id": "b462a5a8",
   "metadata": {},
   "source": [
    "***19. Why are dictionaries considered unordered, and how does that affect data retrieval .***"
   ]
  },
  {
   "cell_type": "markdown",
   "id": "44106c74",
   "metadata": {},
   "source": [
    "Dictionaries are considered unordered because they store data based on key hashes, not sequence. This means you access values directly by keys, not by position. As a result, data retrieval is very fast but does not depend on any order.\n",
    "\n",
    "dictionaries access data by hashing keys rather than by position, data retrieval is very fast and efficient—usually in constant time. However, since items aren’t stored in a fixed order (or only preserve insertion order in recent Python versions), you cannot rely on their order when iterating. So, retrieval by key is quick and direct, but retrieving items in a specific sequence requires extra steps."
   ]
  },
  {
   "cell_type": "markdown",
   "id": "05b394be",
   "metadata": {},
   "source": [
    "***20. Explain the difference between a list and a dictionary in terms of data retrieval.***"
   ]
  },
  {
   "cell_type": "markdown",
   "id": "964a09e6",
   "metadata": {},
   "source": [
    "The main difference between a list and a dictionary in terms of data retrieval is how you access their elements:\n",
    "\n",
    "* List: You retrieve items by their position (index), which means you need to know the exact index to get the value. Searching for an item by value requires checking elements one by one, which can be slower (O(n) time).\n",
    "\n",
    "* Dictionary: You retrieve items by their unique keys using a hash lookup, which is much faster (usually O(1) time) and doesn’t depend on the order or position."
   ]
  },
  {
   "cell_type": "markdown",
   "id": "4328e04b",
   "metadata": {},
   "source": [
    "### Practical Questions ###"
   ]
  },
  {
   "cell_type": "markdown",
   "id": "476627d5",
   "metadata": {},
   "source": [
    "***1. Write a code to create a string with your name and print it.***"
   ]
  },
  {
   "cell_type": "code",
   "execution_count": 1,
   "id": "0587426e",
   "metadata": {},
   "outputs": [
    {
     "name": "stdout",
     "output_type": "stream",
     "text": [
      "Abhishek Yadav\n"
     ]
    }
   ],
   "source": [
    "name = \"Abhishek Yadav\"\n",
    "print(name)"
   ]
  },
  {
   "cell_type": "markdown",
   "id": "1b10b7f4",
   "metadata": {},
   "source": [
    "***2. Write a code to find the length of the string \"Hello World\".***"
   ]
  },
  {
   "cell_type": "code",
   "execution_count": 2,
   "id": "38986701",
   "metadata": {},
   "outputs": [
    {
     "name": "stdout",
     "output_type": "stream",
     "text": [
      "11\n"
     ]
    }
   ],
   "source": [
    "print(len(\"Hello World\"))"
   ]
  },
  {
   "cell_type": "markdown",
   "id": "7623316a",
   "metadata": {},
   "source": [
    "***3. Write a code to slice the first 3 characters from the string \"Python Programming\".***"
   ]
  },
  {
   "cell_type": "code",
   "execution_count": 3,
   "id": "98b770e2",
   "metadata": {},
   "outputs": [
    {
     "name": "stdout",
     "output_type": "stream",
     "text": [
      "Pyt\n"
     ]
    }
   ],
   "source": [
    "text = \"Python Programming\"\n",
    "print (text[:3])"
   ]
  },
  {
   "cell_type": "markdown",
   "id": "6de76bc9",
   "metadata": {},
   "source": [
    "***4.  Write a code to convert the string \"hello\" to uppercase.***"
   ]
  },
  {
   "cell_type": "code",
   "execution_count": 6,
   "id": "43452346",
   "metadata": {},
   "outputs": [
    {
     "name": "stdout",
     "output_type": "stream",
     "text": [
      "HELLO\n"
     ]
    }
   ],
   "source": [
    "txt = \"hello\"\n",
    "print(txt.upper())"
   ]
  },
  {
   "cell_type": "markdown",
   "id": "57024eb4",
   "metadata": {},
   "source": [
    "***5. Write a code to replace the word \"apple\" with \"orange\" in the string \"I like apple\".***"
   ]
  },
  {
   "cell_type": "code",
   "execution_count": 9,
   "id": "af4a0d1b",
   "metadata": {},
   "outputs": [
    {
     "data": {
      "text/plain": [
       "'I like orange'"
      ]
     },
     "execution_count": 9,
     "metadata": {},
     "output_type": "execute_result"
    }
   ],
   "source": [
    "str1 = \"I like apple\"\n",
    "str1.replace(\"apple\",\"orange\")"
   ]
  },
  {
   "cell_type": "markdown",
   "id": "b9ae0fff",
   "metadata": {},
   "source": [
    "***6. Write a code to create a list with numbers 1 to 5 and print it.***"
   ]
  },
  {
   "cell_type": "code",
   "execution_count": 10,
   "id": "2c795d86",
   "metadata": {},
   "outputs": [
    {
     "name": "stdout",
     "output_type": "stream",
     "text": [
      "[1, 2, 3, 4, 5]\n"
     ]
    }
   ],
   "source": [
    "lst1 = []\n",
    "for i in range(1,6):\n",
    "    lst1.append(i)\n",
    "print(lst1)\n"
   ]
  },
  {
   "cell_type": "markdown",
   "id": "97b56066",
   "metadata": {},
   "source": [
    "***7. Write a code to append the number 10 to the list [1, 2, 3, 4].***"
   ]
  },
  {
   "cell_type": "code",
   "execution_count": 17,
   "id": "4c81bd07",
   "metadata": {},
   "outputs": [
    {
     "name": "stdout",
     "output_type": "stream",
     "text": [
      "[1, 2, 3, 4]\n",
      "[1, 2, 3, 4, 10]\n"
     ]
    }
   ],
   "source": [
    "lst2 = [1,2,3,4]\n",
    "print(lst2)\n",
    "lst2.append(10)\n",
    "print(lst2)"
   ]
  },
  {
   "cell_type": "markdown",
   "id": "00e753bb",
   "metadata": {},
   "source": [
    "***8. Write a code to remove the number 3 from the list [1, 2, 3, 4, 5].***"
   ]
  },
  {
   "cell_type": "code",
   "execution_count": 18,
   "id": "eb5e1c17",
   "metadata": {},
   "outputs": [
    {
     "name": "stdout",
     "output_type": "stream",
     "text": [
      "[1, 2, 3, 4, 5]\n",
      "[1, 2, 4, 5]\n"
     ]
    }
   ],
   "source": [
    "lst3 = [1,2,3,4,5]\n",
    "print(lst3)\n",
    "lst3.remove(3)\n",
    "print(lst3)"
   ]
  },
  {
   "cell_type": "markdown",
   "id": "b9b36b03",
   "metadata": {},
   "source": [
    "***9. Write a code to access the second element in the list ['a', 'b', 'c', 'd'].***"
   ]
  },
  {
   "cell_type": "code",
   "execution_count": 26,
   "id": "0253001a",
   "metadata": {},
   "outputs": [
    {
     "name": "stdout",
     "output_type": "stream",
     "text": [
      "['a', 'b', 'c', 'd']\n"
     ]
    },
    {
     "data": {
      "text/plain": [
       "'b'"
      ]
     },
     "execution_count": 26,
     "metadata": {},
     "output_type": "execute_result"
    }
   ],
   "source": [
    "lst4 = [\"a\",\"b\",\"c\",\"d\"]\n",
    "print(lst4)\n",
    "lst4[1]"
   ]
  },
  {
   "cell_type": "markdown",
   "id": "1462eb8e",
   "metadata": {},
   "source": [
    "***10. Write a code to reverse the list [10, 20, 30, 40, 50].***"
   ]
  },
  {
   "cell_type": "code",
   "execution_count": 41,
   "id": "b3dc6d94",
   "metadata": {},
   "outputs": [
    {
     "name": "stdout",
     "output_type": "stream",
     "text": [
      "[10, 20, 30, 40, 50]\n",
      "[50, 40, 30, 20, 10]\n",
      "[10, 20, 30, 40, 50]\n",
      "[50, 40, 30, 20, 10]\n"
     ]
    }
   ],
   "source": [
    "#1st method\n",
    "lst5 = [10,20,30,40,50]\n",
    "print(lst5)\n",
    "reverse_lst5 = lst5[::-1]\n",
    "print(reverse_lst5)\n",
    "\n",
    "\n",
    "#2nd method\n",
    "lst5 = [10,20,30,40,50]\n",
    "print(lst5)\n",
    "lst5.reverse()\n",
    "print(lst5)"
   ]
  },
  {
   "cell_type": "markdown",
   "id": "a6e2bbe7",
   "metadata": {},
   "source": [
    "***11. Write a code to create a tuple with the elements 100, 200, 300 and print it.***"
   ]
  },
  {
   "cell_type": "code",
   "execution_count": 10,
   "id": "e60dc7b2",
   "metadata": {},
   "outputs": [
    {
     "name": "stdout",
     "output_type": "stream",
     "text": [
      "(100, 200, 300) <class 'tuple'>\n"
     ]
    }
   ],
   "source": [
    "tup1 = (100,200,300)\n",
    "print(tup1,type(tup1))"
   ]
  },
  {
   "cell_type": "markdown",
   "id": "53a6a5b1",
   "metadata": {},
   "source": [
    "***12. Write a code to access the second-to-last element of the tuple ('red', 'green', 'blue', 'yellow').***"
   ]
  },
  {
   "cell_type": "code",
   "execution_count": 4,
   "id": "e6b4431b",
   "metadata": {},
   "outputs": [
    {
     "name": "stdout",
     "output_type": "stream",
     "text": [
      "('blue', 'yellow')\n"
     ]
    }
   ],
   "source": [
    "tup2 = (\"red\",\"green\",\"blue\",\"yellow\")\n",
    "print(tup2[-2:])\n"
   ]
  },
  {
   "cell_type": "markdown",
   "id": "1a92a38e",
   "metadata": {},
   "source": [
    "***13. Write a code to find the minimum number in the tuple (10, 20, 5, 15).***"
   ]
  },
  {
   "cell_type": "code",
   "execution_count": 5,
   "id": "7a62e92c",
   "metadata": {},
   "outputs": [
    {
     "data": {
      "text/plain": [
       "5"
      ]
     },
     "execution_count": 5,
     "metadata": {},
     "output_type": "execute_result"
    }
   ],
   "source": [
    "tup3 = (10,20,5,15)\n",
    "min(tup3)"
   ]
  },
  {
   "cell_type": "markdown",
   "id": "17fbfd40",
   "metadata": {},
   "source": [
    "***14.  Write a code to find the index of the element \"cat\" in the tuple ('dog', 'cat', 'rabbit').***"
   ]
  },
  {
   "cell_type": "code",
   "execution_count": 6,
   "id": "46f36b22",
   "metadata": {},
   "outputs": [
    {
     "data": {
      "text/plain": [
       "1"
      ]
     },
     "execution_count": 6,
     "metadata": {},
     "output_type": "execute_result"
    }
   ],
   "source": [
    "tup4 = (\"dog\",\"cat\",\"rabbit\")\n",
    "tup4.index(\"cat\")"
   ]
  },
  {
   "cell_type": "markdown",
   "id": "07b5416b",
   "metadata": {},
   "source": [
    "***15.  Write a code to create a tuple containing three different fruits and check if \"kiwi\" is in it.***"
   ]
  },
  {
   "cell_type": "code",
   "execution_count": 8,
   "id": "4a70a110",
   "metadata": {},
   "outputs": [
    {
     "name": "stdout",
     "output_type": "stream",
     "text": [
      "('apple', 'grapes', 'banana', 'mango')\n"
     ]
    },
    {
     "data": {
      "text/plain": [
       "False"
      ]
     },
     "execution_count": 8,
     "metadata": {},
     "output_type": "execute_result"
    }
   ],
   "source": [
    "tup5 = (\"apple\",\"grapes\",\"banana\",\"mango\")\n",
    "print(tup5)\n",
    "\"kiwi\" in tup5"
   ]
  },
  {
   "cell_type": "markdown",
   "id": "84797f95",
   "metadata": {},
   "source": [
    "***16.  Write a code to create a set with the elements 'a', 'b', 'c' and print it.***"
   ]
  },
  {
   "cell_type": "code",
   "execution_count": 9,
   "id": "440172d8",
   "metadata": {},
   "outputs": [
    {
     "name": "stdout",
     "output_type": "stream",
     "text": [
      "{'a', 'b', 'c'} <class 'set'>\n"
     ]
    }
   ],
   "source": [
    "set1 = {\"a\",\"b\",\"c\"}\n",
    "print(set1,type(set1))"
   ]
  },
  {
   "cell_type": "markdown",
   "id": "51fc14bb",
   "metadata": {},
   "source": [
    "***17.  Write a code to clear all elements from the set {1, 2, 3, 4, 5}.***"
   ]
  },
  {
   "cell_type": "code",
   "execution_count": 11,
   "id": "7026efad",
   "metadata": {},
   "outputs": [
    {
     "name": "stdout",
     "output_type": "stream",
     "text": [
      "{1, 2, 3, 4, 5} <class 'set'>\n",
      "set()\n"
     ]
    }
   ],
   "source": [
    "set2 = {1,2,3,4,5}\n",
    "print(set2,type(set2))\n",
    "set2.clear()\n",
    "print(set2)"
   ]
  },
  {
   "cell_type": "markdown",
   "id": "a55e3892",
   "metadata": {},
   "source": [
    "***18.  Write a code to remove the element 4 from the set {1, 2, 3, 4}.***"
   ]
  },
  {
   "cell_type": "code",
   "execution_count": 12,
   "id": "904b20e4",
   "metadata": {},
   "outputs": [
    {
     "name": "stdout",
     "output_type": "stream",
     "text": [
      "{1, 2, 3, 4}\n",
      "{1, 2, 3}\n"
     ]
    }
   ],
   "source": [
    "set3 = {1,2,3,4}\n",
    "print(set3)\n",
    "set3.remove(4)\n",
    "print(set3)"
   ]
  },
  {
   "cell_type": "markdown",
   "id": "c4e6371e",
   "metadata": {},
   "source": [
    "***19.  Write a code to find the union of two sets {1, 2, 3} and {3, 4, 5}.***"
   ]
  },
  {
   "cell_type": "code",
   "execution_count": 13,
   "id": "7dd408bf",
   "metadata": {},
   "outputs": [
    {
     "name": "stdout",
     "output_type": "stream",
     "text": [
      "{1, 2, 3, 4, 5}\n"
     ]
    }
   ],
   "source": [
    "s1 = {1,2,3}\n",
    "s2 = {3,4,5}\n",
    "print(s1.union(s2))"
   ]
  },
  {
   "cell_type": "markdown",
   "id": "62ab9f35",
   "metadata": {},
   "source": [
    "***20. Write a code to find the intersection of two sets {1, 2, 3} and {2, 3, 4}.***"
   ]
  },
  {
   "cell_type": "code",
   "execution_count": 15,
   "id": "42818b48",
   "metadata": {},
   "outputs": [
    {
     "name": "stdout",
     "output_type": "stream",
     "text": [
      "{2, 3}\n"
     ]
    }
   ],
   "source": [
    "s1 = {1,2,3}\n",
    "s3 = {2,3,4}\n",
    "print(s1.intersection(s3))"
   ]
  },
  {
   "cell_type": "markdown",
   "id": "e2e593a6",
   "metadata": {},
   "source": [
    "***21. Write a code to create a dictionary with the keys \"name\", \"age\", and \"city\", and print it.***"
   ]
  },
  {
   "cell_type": "code",
   "execution_count": 16,
   "id": "ae44be26",
   "metadata": {},
   "outputs": [
    {
     "name": "stdout",
     "output_type": "stream",
     "text": [
      "{'name': 'Abhishek', 'age': '23', 'city': 'Bangalore'} <class 'dict'>\n"
     ]
    }
   ],
   "source": [
    "people_dict = {\"name\":\"Abhishek\",\"age\":\"23\",\"city\":\"Bangalore\"}\n",
    "print(people_dict,type(people_dict))"
   ]
  },
  {
   "cell_type": "markdown",
   "id": "a9e2d74f",
   "metadata": {},
   "source": [
    "***22. Write a code to add a new key-value pair \"country\": \"USA\" to the dictionary {'name': 'John', 'age': 25}.***"
   ]
  },
  {
   "cell_type": "code",
   "execution_count": 17,
   "id": "389e4821",
   "metadata": {},
   "outputs": [
    {
     "name": "stdout",
     "output_type": "stream",
     "text": [
      "{'name': 'John', 'age': 25} <class 'dict'>\n",
      "{'name': 'John', 'age': 25, 'country': 'USA'}\n"
     ]
    }
   ],
   "source": [
    "d1 = {'name': 'John', 'age': 25}\n",
    "print(d1,type(d1))\n",
    "d1[\"country\"] = \"USA\"\n",
    "print(d1)"
   ]
  },
  {
   "cell_type": "markdown",
   "id": "1d7d8cf2",
   "metadata": {},
   "source": [
    "***23.  Write a code to access the value associated with the key \"name\" in the dictionary {'name': 'Alice', 'age': 30}.***"
   ]
  },
  {
   "cell_type": "code",
   "execution_count": 19,
   "id": "496d331e",
   "metadata": {},
   "outputs": [
    {
     "data": {
      "text/plain": [
       "'Alice'"
      ]
     },
     "execution_count": 19,
     "metadata": {},
     "output_type": "execute_result"
    }
   ],
   "source": [
    "d2 = {'name': 'Alice', 'age': 30}\n",
    "d2[\"name\"]"
   ]
  },
  {
   "cell_type": "markdown",
   "id": "a5639665",
   "metadata": {},
   "source": [
    "***24.  Write a code to remove the key \"age\" from the dictionary {'name': 'Bob', 'age': 22, 'city': 'New York'}.***"
   ]
  },
  {
   "cell_type": "code",
   "execution_count": 24,
   "id": "fc54a499",
   "metadata": {},
   "outputs": [
    {
     "name": "stdout",
     "output_type": "stream",
     "text": [
      "{'name': 'Bob', 'city': 'New York'}\n"
     ]
    }
   ],
   "source": [
    "d3 = {'name': 'Bob', 'age': 22, 'city': 'New York'}\n",
    "d3.pop(\"age\")\n",
    "print(d3)"
   ]
  },
  {
   "cell_type": "markdown",
   "id": "226e5095",
   "metadata": {},
   "source": [
    "***25. Write a code to check if the key \"city\" exists in the dictionary {'name': 'Alice', 'city': 'Paris'}.***"
   ]
  },
  {
   "cell_type": "code",
   "execution_count": 25,
   "id": "97c9ee40",
   "metadata": {},
   "outputs": [
    {
     "name": "stdout",
     "output_type": "stream",
     "text": [
      "True\n"
     ]
    }
   ],
   "source": [
    "d4 = {'name': 'Alice', 'city': 'Paris'}\n",
    "print(\"city\" in d4)"
   ]
  },
  {
   "cell_type": "markdown",
   "id": "365873d2",
   "metadata": {},
   "source": [
    "***26. Write a code to create a list, a tuple, and a dictionary, and print them all.***"
   ]
  },
  {
   "cell_type": "code",
   "execution_count": 26,
   "id": "895ea42f",
   "metadata": {},
   "outputs": [
    {
     "name": "stdout",
     "output_type": "stream",
     "text": [
      "[1, 2, 3]\n",
      "(4, 5, 6)\n",
      "{'a': 7, 'b': 8}\n"
     ]
    }
   ],
   "source": [
    "my_list = [1, 2, 3]\n",
    "my_tuple = (4, 5, 6)\n",
    "my_dict = {'a': 7, 'b': 8}\n",
    "\n",
    "print(my_list)\n",
    "print(my_tuple)\n",
    "print(my_dict)\n",
    "\n"
   ]
  },
  {
   "cell_type": "markdown",
   "id": "f0b85337",
   "metadata": {},
   "source": [
    "***27.  Write a code to create a list of 5 random numbers between 1 and 100, sort it in ascending order, and print the\n",
    "result.(replaced)***"
   ]
  },
  {
   "cell_type": "code",
   "execution_count": 31,
   "id": "7c5a3432",
   "metadata": {},
   "outputs": [
    {
     "name": "stdout",
     "output_type": "stream",
     "text": [
      "[10, 11, 38, 55, 92]\n"
     ]
    }
   ],
   "source": [
    "import random\n",
    "\n",
    "random_numbers = []\n",
    "for i in range(5):\n",
    "    random_numbers.append(random.randint(1, 100))\n",
    "\n",
    "random_numbers.sort()\n",
    "print(random_numbers)"
   ]
  },
  {
   "cell_type": "markdown",
   "id": "38e97897",
   "metadata": {},
   "source": [
    "***28. Write a code to create a list with strings and print the element at the third index.***"
   ]
  },
  {
   "cell_type": "code",
   "execution_count": 32,
   "id": "acd9827b",
   "metadata": {},
   "outputs": [
    {
     "name": "stdout",
     "output_type": "stream",
     "text": [
      "date\n"
     ]
    }
   ],
   "source": [
    "l1 = [\"apple\", \"banana\", \"cherry\", \"date\", \"elderberry\"]\n",
    "print(l1[3])"
   ]
  },
  {
   "cell_type": "markdown",
   "id": "4198ed6b",
   "metadata": {},
   "source": [
    "***29.  Write a code to combine two dictionaries into one and print the result.***"
   ]
  },
  {
   "cell_type": "code",
   "execution_count": 36,
   "id": "b5f53efd",
   "metadata": {},
   "outputs": [
    {
     "name": "stdout",
     "output_type": "stream",
     "text": [
      "{'a': 1, 'b': 2, 'c': 3, 'd': 4}\n"
     ]
    }
   ],
   "source": [
    "d5 = {'a': 1, 'b': 2}\n",
    "d6 = {'c': 3, 'd': 4}\n",
    "\n",
    "d7 = {**d5 , **d6}\n",
    "print(d7)\n"
   ]
  },
  {
   "cell_type": "markdown",
   "id": "86b88dcf",
   "metadata": {},
   "source": [
    "***30. Write a code to convert a list of strings into a set.***"
   ]
  },
  {
   "cell_type": "code",
   "execution_count": 38,
   "id": "ae6c018b",
   "metadata": {},
   "outputs": [
    {
     "name": "stdout",
     "output_type": "stream",
     "text": [
      "{'apple', 'banana', 'cherry'} <class 'set'>\n"
     ]
    }
   ],
   "source": [
    "lis1 = [\"apple\", \"banana\", \"apple\", \"cherry\"]\n",
    "my_set = set(lis1)\n",
    "print(my_set,type(my_set))"
   ]
  }
 ],
 "metadata": {
  "kernelspec": {
   "display_name": "Python 3",
   "language": "python",
   "name": "python3"
  },
  "language_info": {
   "codemirror_mode": {
    "name": "ipython",
    "version": 3
   },
   "file_extension": ".py",
   "mimetype": "text/x-python",
   "name": "python",
   "nbconvert_exporter": "python",
   "pygments_lexer": "ipython3",
   "version": "3.13.5"
  }
 },
 "nbformat": 4,
 "nbformat_minor": 5
}
